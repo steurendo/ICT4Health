{
 "cells": [
  {
   "cell_type": "code",
   "execution_count": 1,
   "id": "initial_id",
   "metadata": {
    "collapsed": true,
    "ExecuteTime": {
     "end_time": "2023-11-03T11:04:48.159726900Z",
     "start_time": "2023-11-03T11:04:45.712763300Z"
    }
   },
   "outputs": [
    {
     "data": {
      "text/plain": "<module 'minimization' from 'C:\\\\Users\\\\steur\\\\PycharmProjects\\\\ICT4Health\\\\Lab0\\\\minimization.py'>"
     },
     "execution_count": 1,
     "metadata": {},
     "output_type": "execute_result"
    }
   ],
   "source": [
    "# Imports\n",
    "import numpy as np\n",
    "import time\n",
    "import importlib\n",
    "import utils.minimization as minim\n",
    "from utils.minimization import SolverLLS, SolverGradient, SolverSteepestDescent, StoppingCondition"
   ]
  },
  {
   "cell_type": "code",
   "execution_count": null,
   "outputs": [],
   "source": [
    "# Reloading modules\n",
    "importlib.reload(minim)"
   ],
   "metadata": {
    "collapsed": false
   },
   "id": "5a4e14a51b61b951"
  },
  {
   "cell_type": "code",
   "execution_count": 2,
   "outputs": [],
   "source": [
    "np.random.seed(72)\n",
    "\n",
    "Np = 10\n",
    "Nf = 6\n",
    "A = np.random.randn(Np, Nf)\n",
    "w = np.random.randn(Nf)  # here we emulate w just to check that the algo works\n",
    "y = A @ w"
   ],
   "metadata": {
    "collapsed": false,
    "ExecuteTime": {
     "end_time": "2023-11-03T11:04:48.192520900Z",
     "start_time": "2023-11-03T11:04:48.155411Z"
    }
   },
   "id": "fda40cb5391faf1"
  },
  {
   "cell_type": "markdown",
   "source": [
    "LLS algorithm section.\n",
    "If the problem is well-conditioned (all rows and cols are LI), the LLS will give a good result in one shot, because this is a linear system."
   ],
   "metadata": {
    "collapsed": false
   },
   "id": "fdb5a82b6dfd7f53"
  },
  {
   "cell_type": "code",
   "execution_count": 3,
   "outputs": [
    {
     "name": "stdout",
     "output_type": "stream",
     "text": [
      "\"LLS\" method results\n",
      "Estimated w_hat:  [-1.02881857 -1.19384518  0.49348782 -1.6663294  -0.09966455 -0.80184784]\n",
      "True vector:  [-1.02881857 -1.19384518  0.49348782 -1.6663294  -0.09966455 -0.80184784]\n",
      "Square error ||y - A*w_hat||^2 =  1.41501924874019e-29\n",
      "Time elapsed:  9983.0\n"
     ]
    }
   ],
   "source": [
    "solver = SolverLLS(A, y)\n",
    "t0 = time.time_ns()\n",
    "solver.solve()\n",
    "t1 = time.time_ns()\n",
    "\n",
    "w_hat = solver.result\n",
    "e = y - A @ w_hat\n",
    "\n",
    "print('\"LLS\" method results')\n",
    "print('Estimated w_hat: ', w_hat)\n",
    "print('True vector: ', w)\n",
    "print('Square error ||y - A*w_hat||^2 = ', np.linalg.norm(e) ** 2)\n",
    "print('Time elapsed: ', (t1 - t0) / 1000)"
   ],
   "metadata": {
    "collapsed": false,
    "ExecuteTime": {
     "end_time": "2023-11-03T11:04:50.736068400Z",
     "start_time": "2023-11-03T11:04:50.651378500Z"
    }
   },
   "id": "f18b0aaa137ef7fd"
  },
  {
   "cell_type": "markdown",
   "source": [
    "Gradient algorithm section.\n",
    "The gradient algorithm needs a bunch of iterations, but it will give a good result."
   ],
   "metadata": {
    "collapsed": false
   },
   "id": "49b5163d90b7dc86"
  },
  {
   "cell_type": "code",
   "execution_count": 6,
   "outputs": [
    {
     "name": "stdout",
     "output_type": "stream",
     "text": [
      "\"Gradient algorithm\" method results\n",
      "Estimated w_hat:  [-1.02881857 -1.19384518  0.49348782 -1.6663294  -0.09966455 -0.80184784]\n",
      "True vector:  [-1.02881857 -1.19384518  0.49348782 -1.6663294  -0.09966455 -0.80184784]\n",
      "Square error ||y - A*w_hat||^2 =  4.2579383656886316e-27\n",
      "Time elapsed:  549283.8\n"
     ]
    }
   ],
   "source": [
    "solver = SolverGradient(A, y)\n",
    "t0 = time.time_ns()\n",
    "solver.solve(stopping_condition=StoppingCondition.absolute_improvement, cond_eps=1e-30)\n",
    "t1 = time.time_ns()\n",
    "\n",
    "w_hat = solver.result\n",
    "e = y - A @ w_hat\n",
    "\n",
    "print('\"Gradient algorithm\" method results')\n",
    "print('Estimated w_hat: ', w_hat)\n",
    "print('True vector: ', w)\n",
    "print('Square error ||y - A*w_hat||^2 = ', np.linalg.norm(e) ** 2)\n",
    "print('Time elapsed: ', (t1 - t0) / 1000)"
   ],
   "metadata": {
    "collapsed": false,
    "ExecuteTime": {
     "end_time": "2023-11-03T11:05:10.280656800Z",
     "start_time": "2023-11-03T11:05:09.624692100Z"
    }
   },
   "id": "a44a7b2fa35d929e"
  },
  {
   "cell_type": "markdown",
   "source": [
    "Steepest Descent algorithm section.\n",
    "This algorithm is quite efficient in any case, especially compared to the Gradient algorithm."
   ],
   "metadata": {
    "collapsed": false
   },
   "id": "59597015b256afbf"
  },
  {
   "cell_type": "code",
   "execution_count": 5,
   "outputs": [
    {
     "name": "stdout",
     "output_type": "stream",
     "text": [
      "\"Steepest descent\" algorithm method results\n",
      "Estimated w_hat:  [-1.02881857 -1.19384518  0.49348782 -1.6663294  -0.09966455 -0.80184784]\n",
      "True vector:  [-1.02881857 -1.19384518  0.49348782 -1.6663294  -0.09966455 -0.80184784]\n",
      "Square error ||y - A*w_hat||^2 =  8.38164711797325e-31\n",
      "Time elapsed:  16305.3\n"
     ]
    }
   ],
   "source": [
    "solver = SolverSteepestDescent(A, y)\n",
    "t0 = time.time_ns()\n",
    "solver.solve(stopping_condition=StoppingCondition.absolute_improvement, cond_eps=1e-30)\n",
    "t1 = time.time_ns()\n",
    "\n",
    "w_hat = solver.result\n",
    "e = y - A @ w_hat\n",
    "\n",
    "print('\"Steepest descent\" algorithm method results')\n",
    "print('Estimated w_hat: ', w_hat)\n",
    "print('True vector: ', w)\n",
    "print('Square error ||y - A*w_hat||^2 = ', np.linalg.norm(e) ** 2)\n",
    "print('Time elapsed: ', (t1 - t0) / 1000)"
   ],
   "metadata": {
    "collapsed": false,
    "ExecuteTime": {
     "end_time": "2023-11-03T11:05:04.476909400Z",
     "start_time": "2023-11-03T11:05:04.410256200Z"
    }
   },
   "id": "42bfb69ba00c1f83"
  },
  {
   "cell_type": "markdown",
   "source": [
    "The Gradient algorithm, takes more time than the LLS and is less efficient than the Steepest Descent algorithm.\n",
    "Using a big learning coefficient the algorithm won't give good results, while it gives its best with a value of 1e-2.\n",
    "Using 1e-2 as learning coefficient, if the number of iterations stays around 1000 doesn't reach the\n",
    "same result's quality as for the other two methods.\n",
    "Using the relative error as a stopping condition, it takes more time, but it reaches a good result.\n",
    "Questions:\n",
    "1 - LLS works well with linear (and well-conditioned) problems, while the Gradient algorithm is less efficient but\n",
    "    adaptable also for non-linear problems, so the expected result is the same (depending on the learning coefficient).\n",
    "2 - The Steepest Descent algorithm takes fewer steps than the Gradient algorithm, but the learning coefficient has to\n",
    "    be computed for each iteration. As for the Gradient algorithm, the result should be the same of LLS's.\n",
    "3 - Numerical results nearly impossible, since being Gradient and Steepest Descent algorithms iterative they stops after\n",
    "    a condition is met: the result changes through floating numbers at each iteration, and it's pratically impossible\n",
    "    to have the same result as for a \"one shot\" method. "
   ],
   "metadata": {
    "collapsed": false
   },
   "id": "38e4c5da784e8e51"
  },
  {
   "cell_type": "code",
   "execution_count": null,
   "outputs": [],
   "source": [],
   "metadata": {
    "collapsed": false
   },
   "id": "a88bb936ce6792a6"
  }
 ],
 "metadata": {
  "kernelspec": {
   "display_name": "Python 3",
   "language": "python",
   "name": "python3"
  },
  "language_info": {
   "codemirror_mode": {
    "name": "ipython",
    "version": 2
   },
   "file_extension": ".py",
   "mimetype": "text/x-python",
   "name": "python",
   "nbconvert_exporter": "python",
   "pygments_lexer": "ipython2",
   "version": "2.7.6"
  }
 },
 "nbformat": 4,
 "nbformat_minor": 5
}
